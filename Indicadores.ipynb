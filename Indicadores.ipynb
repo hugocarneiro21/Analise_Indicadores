{
 "cells": [
  {
   "cell_type": "code",
   "execution_count": null,
   "metadata": {},
   "outputs": [],
   "source": [
    "#Lógica de programação\n",
    "#Passo 0 - Entender o desafio\n",
    "#Passo 1 - Percorrer todos os arquivos da pasta de dados (pasta Vedas)\n",
    "\n",
    "import os\n",
    "import pandas as pd\n",
    "\n",
    "\n",
    "lista_arquivos = os.listdir(\"C:/Users/144815/OneDrive - Localiza/Área de Trabalho/python Hashtag/01-15 - Curso de Python - Aula 1-20231102T125802Z-001/01-15 - Curso de Python - Aula 1/Vendas\")\n",
    "\n",
    "print (lista_arquivos)"
   ]
  },
  {
   "cell_type": "code",
   "execution_count": null,
   "metadata": {},
   "outputs": [],
   "source": [
    "tabela_total = pd.DataFrame() #tabela\n",
    "\n",
    "#Passo 2 - Importar as baes de dados de vendas\n",
    "for arquivo in lista_arquivos:\n",
    "    #se tem \"vendas\" no nome do arquivo, então\n",
    "     if \"Vendas\" in arquivo:\n",
    "        #importar o arquivo\n",
    "        tabela = pd.read_csv(f\"C:/Users/144815/OneDrive - Localiza/Área de Trabalho/python Hashtag/01-15 - Curso de Python - Aula 1-20231102T125802Z-001/01-15 - Curso de Python - Aula 1/Vendas/{arquivo}\")\n",
    "        tabela_total = tabela_total._append(tabela) #adiciona todos os aquivos em 1 - append(adiciona)\n",
    "\n",
    "#Passo 3 - Tratar / Compilar as bases de dados\n",
    "display(tabela_total)"
   ]
  },
  {
   "cell_type": "code",
   "execution_count": null,
   "metadata": {},
   "outputs": [],
   "source": [
    "#Passo 4 - Calcular o produto mais vendido (em quantidade)\n",
    "tabela_produtos = tabela_total.groupby('Produto').sum()\n",
    "tabela_produtos = tabela_produtos[['Quantidade Vendida', 'Preco Unitario']].sort_values(by='Quantidade Vendida', ascending=True)\n",
    "display(tabela_produtos)\n",
    "\n"
   ]
  },
  {
   "cell_type": "code",
   "execution_count": null,
   "metadata": {},
   "outputs": [],
   "source": [
    "#Passo 5 - Calcular o produto que mais faturou (em faturamento)\n",
    "\n",
    "tabela_total ['Faturamento'] = tabela_total [ 'Quantidade Vendida'] * tabela_total['Preco Unitario']\n",
    "tabela_faturamento = tabela_total.groupby('Produto').sum()\n",
    "tabela_faturamento = tabela_faturamento[['Faturamento']].sort_values(by='Faturamento', ascending=False)\n",
    "display(tabela_faturamento)"
   ]
  },
  {
   "cell_type": "code",
   "execution_count": null,
   "metadata": {},
   "outputs": [],
   "source": [
    "#Passo 6 - Calcular a loja/Cidade que mais vendeu (em faturamento) - criar um gráfico/dashboard\n",
    "tabela_lojas = tabela_total.groupby('Loja').sum()\n",
    "tabela_lojas = tabela_lojas[['Faturamento']]\n",
    "display(tabela_lojas)"
   ]
  },
  {
   "cell_type": "code",
   "execution_count": null,
   "metadata": {},
   "outputs": [],
   "source": [
    "import plotly.express as px\n",
    "\n",
    "grafico = px.bar(tabela_lojas, x=tabela_lojas.index, y= 'Faturamento')\n",
    "grafico.show()"
   ]
  }
 ],
 "metadata": {
  "kernelspec": {
   "display_name": "Python 3",
   "language": "python",
   "name": "python3"
  },
  "language_info": {
   "codemirror_mode": {
    "name": "ipython",
    "version": 3
   },
   "file_extension": ".py",
   "mimetype": "text/x-python",
   "name": "python",
   "nbconvert_exporter": "python",
   "pygments_lexer": "ipython3",
   "version": "3.11.4"
  },
  "orig_nbformat": 4
 },
 "nbformat": 4,
 "nbformat_minor": 2
}
